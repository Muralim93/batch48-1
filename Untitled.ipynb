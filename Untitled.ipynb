{
 "cells": [
  {
   "cell_type": "code",
   "execution_count": 1,
   "metadata": {},
   "outputs": [
    {
     "name": "stdout",
     "output_type": "stream",
     "text": [
      "1000\n",
      "2000\n",
      "1000\n"
     ]
    }
   ],
   "source": [
    "a=1000\n",
    "b=2000\n",
    "c=a\n",
    "print a\n",
    "print b\n",
    "print c"
   ]
  },
  {
   "cell_type": "code",
   "execution_count": 4,
   "metadata": {},
   "outputs": [
    {
     "name": "stdout",
     "output_type": "stream",
     "text": [
      "1000 94797036870760\n",
      "2000 94797036954416\n",
      "1000 94797036870760\n"
     ]
    }
   ],
   "source": [
    "a=1000\n",
    "b=2000\n",
    "c=a\n",
    "\n",
    "print a,id(a)\n",
    "print b,id(b)\n",
    "print c,id(c)"
   ]
  },
  {
   "cell_type": "code",
   "execution_count": 5,
   "metadata": {},
   "outputs": [
    {
     "name": "stdout",
     "output_type": "stream",
     "text": [
      "4000 94797036954464\n",
      "2000 94797036870472\n",
      "1000 94797036954392\n"
     ]
    }
   ],
   "source": [
    "a=1000\n",
    "b=2000\n",
    "c=a\n",
    "a=4000\n",
    "print a,id(a)\n",
    "print b,id(b)\n",
    "print c,id(c)"
   ]
  },
  {
   "cell_type": "code",
   "execution_count": 6,
   "metadata": {
    "collapsed": true
   },
   "outputs": [],
   "source": [
    "s1=\"python program\"\n",
    "s2=\"c program\"\n",
    "s3=s1\n",
    "s4=\"python program\""
   ]
  },
  {
   "cell_type": "code",
   "execution_count": 7,
   "metadata": {},
   "outputs": [
    {
     "ename": "NameError",
     "evalue": "name 'e' is not defined",
     "output_type": "error",
     "traceback": [
      "\u001b[0;31m---------------------------------------------------------------------------\u001b[0m",
      "\u001b[0;31mNameError\u001b[0m                                 Traceback (most recent call last)",
      "\u001b[0;32m<ipython-input-7-65369d5b60a8>\u001b[0m in \u001b[0;36m<module>\u001b[0;34m()\u001b[0m\n\u001b[0;32m----> 1\u001b[0;31m \u001b[0;32mprint\u001b[0m \u001b[0me\u001b[0m\u001b[0;34m\u001b[0m\u001b[0m\n\u001b[0m",
      "\u001b[0;31mNameError\u001b[0m: name 'e' is not defined"
     ]
    }
   ],
   "source": [
    "print e"
   ]
  },
  {
   "cell_type": "code",
   "execution_count": 8,
   "metadata": {},
   "outputs": [
    {
     "name": "stdout",
     "output_type": "stream",
     "text": [
      "4000\n"
     ]
    }
   ],
   "source": [
    "print a"
   ]
  },
  {
   "cell_type": "code",
   "execution_count": 9,
   "metadata": {},
   "outputs": [
    {
     "name": "stdout",
     "output_type": "stream",
     "text": [
      "139952458952128 python program\n",
      "139952458952128 python program\n",
      "139952458951904 python program\n"
     ]
    }
   ],
   "source": [
    "s1=\"python program\"\n",
    "s2=\"c program\"\n",
    "s3=s1\n",
    "s4=\"python program\"\n",
    "print id(s1),s1\n",
    "print id(s3),s3\n",
    "print id(s4),s4"
   ]
  },
  {
   "cell_type": "code",
   "execution_count": 10,
   "metadata": {},
   "outputs": [
    {
     "name": "stdout",
     "output_type": "stream",
     "text": [
      "p\n",
      "p\n",
      "p\n",
      "p\n"
     ]
    }
   ],
   "source": [
    "s1=\"python program\"\n",
    "s2=\"c program\"\n",
    "s3=s1\n",
    "s4=\"python program\"\n",
    "print s1[0]\n",
    "print s2[2]\n",
    "print s4[0]\n",
    "print s3[0]"
   ]
  },
  {
   "cell_type": "code",
   "execution_count": 11,
   "metadata": {},
   "outputs": [
    {
     "name": "stdout",
     "output_type": "stream",
     "text": [
      "p 139952694866408\n",
      "p 139952694866408\n",
      "p 139952694866408\n",
      "p 139952694866408\n"
     ]
    }
   ],
   "source": [
    "s1=\"python program\"\n",
    "s2=\"c program\"\n",
    "s3=s1\n",
    "s4=\"python program\"\n",
    "print s1[0],id(s1[0])\n",
    "print s2[2],id(s2[2])\n",
    "print s4[0],id(s4[0])\n",
    "print s3[0],id(s3[0])"
   ]
  },
  {
   "cell_type": "code",
   "execution_count": 12,
   "metadata": {},
   "outputs": [
    {
     "name": "stdout",
     "output_type": "stream",
     "text": [
      "1000 <type 'int'>\n",
      "12.34 <type 'float'>\n",
      "(1+2j) <type 'complex'>\n",
      "str1 <type 'str'>\n",
      "True <type 'bool'>\n",
      "False <type 'bool'>\n",
      "None <type 'NoneType'>\n",
      "[1, 2, 3, 'str1', 12.34, (1+2j), [10, 20, 30]] <type 'list'>\n",
      "(1, 2, 3, 'str1', 12.34, (1+2j), [10, 20, 30]) <type 'tuple'>\n",
      "set([1, 2, 3, 4, 5, 6, 7]) <type 'set'>\n",
      "{1: 2, 1.2: 3.4, 'name': 'anil', (1, 2, 3, 4): 'tuple'} <type 'dict'>\n",
      "[1 2 3 4 5 6] <type 'numpy.ndarray'>\n",
      "   id    name\n",
      "0   1    anil\n",
      "1   2  Rajesh <class 'pandas.core.frame.DataFrame'>\n"
     ]
    }
   ],
   "source": [
    "# premitive datatypes\n",
    "a=1000\n",
    "b=12.34\n",
    "c=1+2j\n",
    "d=\"str1\"\n",
    "e=True\n",
    "f=False\n",
    "g=None\n",
    "# datastructures\n",
    "h=[1,2,3,\"str1\",12.34,1+2j,[10,20,30]]\n",
    "i=(1,2,3,\"str1\",12.34,1+2j,[10,20,30])\n",
    "j={1,2,3,4,5,6,7}\n",
    "k={1:2,\"name\":\"anil\",1.2:3.4,(1,2,3,4):\"tuple\"}\n",
    "import numpy as np\n",
    "import pandas as pd\n",
    "# third party data types\n",
    "ar1=np.array([1,2,3,4,5,6])\n",
    "df=pd.DataFrame([{\"id\":1,\"name\":\"anil\"},{\"id\":2,\"name\":\"Rajesh\"}])\n",
    "print a, type(a)\n",
    "print b, type(b)\n",
    "print c, type(c)\n",
    "print d, type(d)\n",
    "print e, type(e)\n",
    "print f, type(f)\n",
    "print g, type(g)\n",
    "print h, type(h)\n",
    "print i, type(i)\n",
    "print j, type(j)\n",
    "print k, type(k)\n",
    "print ar1, type(ar1)\n",
    "print df, type(df)\n"
   ]
  },
  {
   "cell_type": "code",
   "execution_count": 13,
   "metadata": {
    "collapsed": true
   },
   "outputs": [],
   "source": [
    "a=10"
   ]
  },
  {
   "cell_type": "code",
   "execution_count": 15,
   "metadata": {},
   "outputs": [
    {
     "name": "stdout",
     "output_type": "stream",
     "text": [
      "a= 10 <type 'int'>\n",
      "b= 8 <type 'int'>\n",
      "c= 16 <type 'int'>\n",
      "d= 8 <type 'int'>\n",
      "e= 21 <type 'int'>\n"
     ]
    }
   ],
   "source": [
    "a=10\n",
    "b=010\n",
    "c=0x10\n",
    "d=0o10\n",
    "e=0b010101\n",
    "print \"a=\",a, type(a)\n",
    "print \"b=\",b, type(b)\n",
    "print \"c=\",c, type(c)\n",
    "print \"d=\",d, type(d)\n",
    "print \"e=\",e, type(e)"
   ]
  },
  {
   "cell_type": "code",
   "execution_count": 16,
   "metadata": {},
   "outputs": [
    {
     "name": "stdout",
     "output_type": "stream",
     "text": [
      "3000\n",
      "-1000\n",
      "2000000\n",
      "0\n",
      "1000000000\n",
      "False\n",
      "False\n",
      "False\n",
      "True\n",
      "True\n",
      "True\n",
      "960\n",
      "2040\n",
      "1080\n"
     ]
    }
   ],
   "source": [
    "a=1000\n",
    "b=2000\n",
    "# arithmatic operations\n",
    "print a+b\n",
    "print a-b\n",
    "print a*b\n",
    "print a/b\n",
    "print a**3\n",
    "# boolean operations\n",
    "print a>b\n",
    "print a>=b\n",
    "print a==b\n",
    "print a!=b\n",
    "print a<b\n",
    "print a<=b\n",
    "\n",
    "#bitwise operations\n",
    "print a&b\n",
    "print a|b\n",
    "print a^b"
   ]
  },
  {
   "cell_type": "code",
   "execution_count": null,
   "metadata": {
    "collapsed": true
   },
   "outputs": [],
   "source": []
  }
 ],
 "metadata": {
  "kernelspec": {
   "display_name": "Python 2",
   "language": "python",
   "name": "python2"
  },
  "language_info": {
   "codemirror_mode": {
    "name": "ipython",
    "version": 2
   },
   "file_extension": ".py",
   "mimetype": "text/x-python",
   "name": "python",
   "nbconvert_exporter": "python",
   "pygments_lexer": "ipython2",
   "version": "2.7.14"
  }
 },
 "nbformat": 4,
 "nbformat_minor": 2
}
